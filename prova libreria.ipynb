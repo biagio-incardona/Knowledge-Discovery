{
 "cells": [
  {
   "cell_type": "code",
   "execution_count": 1,
   "id": "0aed2b72-9aa3-4373-bc10-8521eae6fe95",
   "metadata": {},
   "outputs": [
    {
     "name": "stdout",
     "output_type": "stream",
     "text": [
      "None\n"
     ]
    }
   ],
   "source": [
    "import ForwardForwardNN\n",
    "from utils.CIFAR10Loader import CIFAR10Loader\n",
    "import torch\n",
    "from utils.layers import FFLinear\n",
    "from utils.tools import base_loss\n",
    "\n",
    "ff1 = ForwardForwardNN.FowardForwardNN()\n",
    "\n",
    "layer_1 = FFLinear(in_features = 3072, out_features = 10, activation = torch.nn.ReLU(), optimizer=torch.optim.Adam, layer_optim_learning_rate=1e-3, threshold=3, loss_fn=base_loss)\n",
    "layer_2 = FFLinear(in_features = 10, out_features = 20, activation = torch.nn.ReLU(), optimizer=torch.optim.Adam, layer_optim_learning_rate=1e-3, threshold=5, loss_fn=base_loss)\n",
    "layer_out = FFLinear(in_features = 20, out_features = 30, activation = torch.nn.ReLU(), optimizer = torch.optim.Adam, layer_optim_learning_rate=1e-3, threshold=0.5, loss_fn=base_loss)\n",
    "_=ff1.add_layer(layer_1).add_layer(layer_2).add_layer(layer_out)\n",
    "#for i in range(50):\n",
    "#    _=ff1.add_layer(layer_2)\n",
    "#_=ff1.add_layer(layer_out)\n",
    "#ForwardForwardNN.FowardForwardNN(train_batch_size=100).get_layers()"
   ]
  },
  {
   "cell_type": "code",
   "execution_count": 2,
   "id": "bcb0b80d-fb5c-466c-8829-530cbb35a9f2",
   "metadata": {},
   "outputs": [
    {
     "name": "stdout",
     "output_type": "stream",
     "text": [
      "Downloading https://www.cs.toronto.edu/~kriz/cifar-10-python.tar.gz to ./tmp\\cifar-10-python.tar.gz\n"
     ]
    },
    {
     "data": {
      "application/vnd.jupyter.widget-view+json": {
       "model_id": "9fbb22e0af7b42eab5d7663129dd1798",
       "version_major": 2,
       "version_minor": 0
      },
      "text/plain": [
       "  0%|          | 0/170498071 [00:00<?, ?it/s]"
      ]
     },
     "metadata": {},
     "output_type": "display_data"
    },
    {
     "name": "stdout",
     "output_type": "stream",
     "text": [
      "Extracting ./tmp\\cifar-10-python.tar.gz to ./tmp\n",
      "Files already downloaded and verified\n"
     ]
    }
   ],
   "source": [
    "cifar_loader = CIFAR10Loader()\n",
    "cifar_loader.download_dataset()\n",
    "train_batch_size = 1024\n",
    "test_batch_size = 1024\n",
    "train_loader = cifar_loader.get_train_loader(train_batch_size)\n",
    "test_loader = cifar_loader.get_test_loader(test_batch_size)"
   ]
  },
  {
   "cell_type": "code",
   "execution_count": 3,
   "id": "cd81e9c3-b926-409d-a36c-7fc377e4ce41",
   "metadata": {},
   "outputs": [
    {
     "data": {
      "application/vnd.jupyter.widget-view+json": {
       "model_id": "64dd20d607534025b48bb7a3fd942727",
       "version_major": 2,
       "version_minor": 0
      },
      "text/plain": [
       "  0%|          | 0/10 [00:00<?, ?it/s]"
      ]
     },
     "metadata": {},
     "output_type": "display_data"
    },
    {
     "name": "stdout",
     "output_type": "stream",
     "text": [
      "Layer 0: 1.550705909729004, Layer 1: 1.6025946140289307, Layer 2: 1.38629460334777835\r"
     ]
    }
   ],
   "source": [
    "ff1.fit(train_loader, before=False, n_epochs=10)"
   ]
  },
  {
   "cell_type": "code",
   "execution_count": 4,
   "id": "b1a4e4c9-3c15-47ca-b219-f24688f04bc1",
   "metadata": {},
   "outputs": [
    {
     "data": {
      "application/vnd.jupyter.widget-view+json": {
       "model_id": "d119d73ac64a48838ac91f3c2aea0e64",
       "version_major": 2,
       "version_minor": 0
      },
      "text/plain": [
       "  0%|          | 0/49 [00:00<?, ?it/s]"
      ]
     },
     "metadata": {},
     "output_type": "display_data"
    },
    {
     "name": "stdout",
     "output_type": "stream",
     "text": [
      "Accuracy: 12.4980%\n",
      "Test error: 87.5020%\n"
     ]
    }
   ],
   "source": [
    "ff1.test(train_loader)"
   ]
  },
  {
   "cell_type": "code",
   "execution_count": 5,
   "id": "932ebfd4-1d19-4f02-9b97-41d8ae482968",
   "metadata": {},
   "outputs": [
    {
     "data": {
      "application/vnd.jupyter.widget-view+json": {
       "model_id": "32645c5d81a744b7b61e74573e0cbb88",
       "version_major": 2,
       "version_minor": 0
      },
      "text/plain": [
       "  0%|          | 0/10 [00:00<?, ?it/s]"
      ]
     },
     "metadata": {},
     "output_type": "display_data"
    },
    {
     "name": "stdout",
     "output_type": "stream",
     "text": [
      "Accuracy: 12.7500%\n",
      "Test error: 87.2500%\n"
     ]
    }
   ],
   "source": [
    "ff1.test(test_loader)"
   ]
  },
  {
   "cell_type": "code",
   "execution_count": 6,
   "id": "77581261-c723-41f0-87ef-d1995ad886c6",
   "metadata": {},
   "outputs": [
    {
     "name": "stdout",
     "output_type": "stream",
     "text": [
      "None\n"
     ]
    },
    {
     "data": {
      "application/vnd.jupyter.widget-view+json": {
       "model_id": "a49a80a9d610454889eae676d7c02381",
       "version_major": 2,
       "version_minor": 0
      },
      "text/plain": [
       "  0%|          | 0/10 [00:00<?, ?it/s]"
      ]
     },
     "metadata": {},
     "output_type": "display_data"
    },
    {
     "name": "stdout",
     "output_type": "stream",
     "text": [
      "Layer 0: 1.5601203441619873\r"
     ]
    }
   ],
   "source": [
    "layer_p = FFLinear(in_features = 3072, out_features = 100, activation = torch.nn.ReLU(), optimizer=torch.optim.Adam, layer_optim_learning_rate=1e-3, threshold=3, loss_fn=base_loss)\n",
    "ffp = ForwardForwardNN.FowardForwardNN()\n",
    "ffp.add_layer(layer_p)\n",
    "ffp.fit(train_loader, before=True, n_epochs=10)"
   ]
  },
  {
   "cell_type": "code",
   "execution_count": 7,
   "id": "68160550-34c6-4549-8430-ffa984d02462",
   "metadata": {},
   "outputs": [
    {
     "data": {
      "application/vnd.jupyter.widget-view+json": {
       "model_id": "00519a96aa6741a5a9c00e4df31c97f4",
       "version_major": 2,
       "version_minor": 0
      },
      "text/plain": [
       "  0%|          | 0/49 [00:00<?, ?it/s]"
      ]
     },
     "metadata": {},
     "output_type": "display_data"
    },
    {
     "name": "stdout",
     "output_type": "stream",
     "text": [
      "Accuracy: 17.5720%\n",
      "Test error: 82.4280%\n"
     ]
    }
   ],
   "source": [
    "ffp.test(train_loader)"
   ]
  },
  {
   "cell_type": "code",
   "execution_count": 8,
   "id": "4ffeecd1-0490-4da7-9ca9-7c024abea0f5",
   "metadata": {},
   "outputs": [
    {
     "name": "stdout",
     "output_type": "stream",
     "text": [
      "Python 3.10.9\n"
     ]
    }
   ],
   "source": [
    "!python --version"
   ]
  }
 ],
 "metadata": {
  "kernelspec": {
   "display_name": "Python 3 (ipykernel)",
   "language": "python",
   "name": "python3"
  },
  "language_info": {
   "codemirror_mode": {
    "name": "ipython",
    "version": 3
   },
   "file_extension": ".py",
   "mimetype": "text/x-python",
   "name": "python",
   "nbconvert_exporter": "python",
   "pygments_lexer": "ipython3",
   "version": "3.10.9"
  }
 },
 "nbformat": 4,
 "nbformat_minor": 5
}
