{
 "cells": [
  {
   "cell_type": "code",
   "execution_count": 1,
   "id": "0aed2b72-9aa3-4373-bc10-8521eae6fe95",
   "metadata": {},
   "outputs": [
    {
     "name": "stdout",
     "output_type": "stream",
     "text": [
      "None\n"
     ]
    }
   ],
   "source": [
    "import ForwardForwardNN\n",
    "from utils.CIFAR10Loader import CIFAR10Loader\n",
    "import torch\n",
    "from utils.layers import FFLinear\n",
    "from utils.tools import base_loss\n",
    "\n",
    "ff1 = ForwardForwardNN.FowardForwardNN()\n",
    "\n",
    "layer_1 = FFLinear(in_features = 3072, out_features = 200, activation = torch.nn.ReLU(), optimizer=torch.optim.Adam, layer_optim_learning_rate=1e-3, threshold=6, loss_fn=base_loss)\n",
    "#layer_2 = FFLinear(in_features = 200, out_features = 100, activation = torch.nn.ReLU(), optimizer=torch.optim.Adam, layer_optim_learning_rate=1e-3, threshold=5, loss_fn=base_loss)\n",
    "#layer_out = FFLinear(in_features = 100, out_features = 10, activation = torch.nn.Softmax(), optimizer = torch.optim.Adam, layer_optim_learning_rate=1e-3, threshold=0.5, loss_fn=base_loss)\n",
    "_=ff1.add_layer(layer_1)#.add_layer(layer_2).get_layers()\n",
    "#for i in range(50):\n",
    "#    _=ff1.add_layer(layer_2)\n",
    "#_=ff1.add_layer(layer_out)\n",
    "#ForwardForwardNN.FowardForwardNN(train_batch_size=100).get_layers()"
   ]
  },
  {
   "cell_type": "code",
   "execution_count": 2,
   "id": "bcb0b80d-fb5c-466c-8829-530cbb35a9f2",
   "metadata": {},
   "outputs": [
    {
     "name": "stdout",
     "output_type": "stream",
     "text": [
      "Files already downloaded and verified\n",
      "Files already downloaded and verified\n"
     ]
    }
   ],
   "source": [
    "cifar_loader = CIFAR10Loader()\n",
    "cifar_loader.download_dataset()\n",
    "train_batch_size = 1024\n",
    "test_batch_size = 1024\n",
    "train_loader = cifar_loader.get_train_loader(train_batch_size)\n",
    "test_loader = cifar_loader.get_test_loader(test_batch_size)"
   ]
  },
  {
   "cell_type": "code",
   "execution_count": 3,
   "id": "cd81e9c3-b926-409d-a36c-7fc377e4ce41",
   "metadata": {},
   "outputs": [
    {
     "data": {
      "application/vnd.jupyter.widget-view+json": {
       "model_id": "3f3dfa93785a49889c335de14d9f96e9",
       "version_major": 2,
       "version_minor": 0
      },
      "text/plain": [
       "  0%|          | 0/60 [00:00<?, ?it/s]"
      ]
     },
     "metadata": {},
     "output_type": "display_data"
    },
    {
     "name": "stdout",
     "output_type": "stream",
     "text": [
      "Layer 0: 1.4092068672180176\r"
     ]
    }
   ],
   "source": [
    "ff1.fit(train_loader, before=False, n_epochs=60)"
   ]
  },
  {
   "cell_type": "code",
   "execution_count": 7,
   "id": "b1a4e4c9-3c15-47ca-b219-f24688f04bc1",
   "metadata": {},
   "outputs": [
    {
     "data": {
      "application/vnd.jupyter.widget-view+json": {
       "model_id": "cb6f9154967e4303ad2f0c6d77bcdd79",
       "version_major": 2,
       "version_minor": 0
      },
      "text/plain": [
       "  0%|          | 0/49 [00:00<?, ?it/s]"
      ]
     },
     "metadata": {},
     "output_type": "display_data"
    },
    {
     "name": "stdout",
     "output_type": "stream",
     "text": [
      "Accuracy: 23.4920%\n",
      "Test error: 76.5080%\n"
     ]
    }
   ],
   "source": [
    "ff1.test(train_loader)"
   ]
  },
  {
   "cell_type": "code",
   "execution_count": 8,
   "id": "932ebfd4-1d19-4f02-9b97-41d8ae482968",
   "metadata": {},
   "outputs": [
    {
     "data": {
      "application/vnd.jupyter.widget-view+json": {
       "model_id": "887b8392e69d497e99fa6f83f49f188b",
       "version_major": 2,
       "version_minor": 0
      },
      "text/plain": [
       "  0%|          | 0/10 [00:00<?, ?it/s]"
      ]
     },
     "metadata": {},
     "output_type": "display_data"
    },
    {
     "name": "stdout",
     "output_type": "stream",
     "text": [
      "Accuracy: 23.9800%\n",
      "Test error: 76.0200%\n"
     ]
    }
   ],
   "source": [
    "ff1.test(test_loader)"
   ]
  },
  {
   "cell_type": "code",
   "execution_count": 6,
   "id": "77581261-c723-41f0-87ef-d1995ad886c6",
   "metadata": {},
   "outputs": [
    {
     "data": {
      "application/vnd.jupyter.widget-view+json": {
       "model_id": "47a0893863d4476a8e33042536e3ffe1",
       "version_major": 2,
       "version_minor": 0
      },
      "text/plain": [
       "  0%|          | 0/60 [00:00<?, ?it/s]"
      ]
     },
     "metadata": {},
     "output_type": "display_data"
    },
    {
     "name": "stdout",
     "output_type": "stream",
     "text": [
      "Layer 0: 1.3523582220077515\r"
     ]
    }
   ],
   "source": [
    "ff1.fit(train_loader, before=True, n_epochs=60)"
   ]
  }
 ],
 "metadata": {
  "kernelspec": {
   "display_name": "Python 3 (ipykernel)",
   "language": "python",
   "name": "python3"
  },
  "language_info": {
   "codemirror_mode": {
    "name": "ipython",
    "version": 3
   },
   "file_extension": ".py",
   "mimetype": "text/x-python",
   "name": "python",
   "nbconvert_exporter": "python",
   "pygments_lexer": "ipython3",
   "version": "3.10.9"
  }
 },
 "nbformat": 4,
 "nbformat_minor": 5
}
